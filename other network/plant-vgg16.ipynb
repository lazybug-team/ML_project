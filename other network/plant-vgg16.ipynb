{
 "cells": [
  {
   "cell_type": "markdown",
   "id": "25f84679",
   "metadata": {},
   "source": [
    "# 数据预处理"
   ]
  },
  {
   "cell_type": "code",
   "execution_count": 1,
   "id": "c3a998e3",
   "metadata": {
    "ExecuteTime": {
     "end_time": "2022-11-23T07:40:10.873165Z",
     "start_time": "2022-11-23T07:40:10.855962Z"
    },
    "execution": {
     "iopub.execute_input": "2022-11-23T03:13:33.773720Z",
     "iopub.status.busy": "2022-11-23T03:13:33.773329Z",
     "iopub.status.idle": "2022-11-23T03:13:33.780452Z",
     "shell.execute_reply": "2022-11-23T03:13:33.779177Z",
     "shell.execute_reply.started": "2022-11-23T03:13:33.773686Z"
    }
   },
   "outputs": [],
   "source": [
    "import os\n",
    "import random\n",
    "data_path=r'plant-seedlings-classification'\n",
    "# data_path=r'/kaggle/input/plant-seedlings-classification'  #for kaggle notebook\n",
    "train_path=os.path.join(data_path,'train')\n",
    "test_path=os.path.join(data_path,'test')"
   ]
  },
  {
   "cell_type": "code",
   "execution_count": 2,
   "id": "ea70748e",
   "metadata": {
    "ExecuteTime": {
     "end_time": "2022-11-23T07:40:10.888333Z",
     "start_time": "2022-11-23T07:40:10.875104Z"
    },
    "execution": {
     "iopub.execute_input": "2022-11-23T03:13:33.783170Z",
     "iopub.status.busy": "2022-11-23T03:13:33.782766Z",
     "iopub.status.idle": "2022-11-23T03:13:33.796129Z",
     "shell.execute_reply": "2022-11-23T03:13:33.794781Z",
     "shell.execute_reply.started": "2022-11-23T03:13:33.783130Z"
    },
    "scrolled": true
   },
   "outputs": [
    {
     "data": {
      "text/plain": [
       "('plant-seedlings-classification\\\\train',\n",
       " 'plant-seedlings-classification\\\\test')"
      ]
     },
     "execution_count": 2,
     "metadata": {},
     "output_type": "execute_result"
    }
   ],
   "source": [
    "train_path,test_path"
   ]
  },
  {
   "cell_type": "code",
   "execution_count": null,
   "id": "71d47511",
   "metadata": {},
   "outputs": [],
   "source": []
  },
  {
   "cell_type": "code",
   "execution_count": 3,
   "id": "c3098f8a",
   "metadata": {
    "ExecuteTime": {
     "end_time": "2022-11-23T07:40:10.903526Z",
     "start_time": "2022-11-23T07:40:10.890258Z"
    },
    "execution": {
     "iopub.execute_input": "2022-11-23T03:13:33.800153Z",
     "iopub.status.busy": "2022-11-23T03:13:33.799798Z",
     "iopub.status.idle": "2022-11-23T03:13:33.809446Z",
     "shell.execute_reply": "2022-11-23T03:13:33.808400Z",
     "shell.execute_reply.started": "2022-11-23T03:13:33.800126Z"
    }
   },
   "outputs": [],
   "source": [
    "def get_data_list(path,train_list_path,eval_list_path):\n",
    "    \n",
    "#     print(\"path=%s\"%path)\n",
    "    img_classes=os.listdir(path)\n",
    "\n",
    "    train_list=[]\n",
    "    eval_list=[]\n",
    "\n",
    "    label=0\n",
    "    cnt=0\n",
    "    for img_class in img_classes:\n",
    "        label_dict[str(label)]=img_class\n",
    "#         print(\"{}:{}\".format(label,img_class))\n",
    "\n",
    "        img_class_path=os.path.join(path,img_class)\n",
    "        imgs=os.listdir(img_class_path)\n",
    "        for img in imgs:\n",
    "            img_path=os.path.join(img_class_path,img)\n",
    "            cnt+=1\n",
    "            if cnt%10==0:\n",
    "                eval_list.append(\"%s\\t%s\\n\"%(img_path,str(label)))\n",
    "#                 print(\"%s\\t%s\"%(img_path,str(label)))\n",
    "            else:\n",
    "                train_list.append(\"%s\\t%s\\n\"%(img_path,str(label)))\n",
    "#                 print(\"%s\\t%s\\n\"%(img_path,str(label)))\n",
    "        label+=1\n",
    "    \n",
    "    random.shuffle(train_list)\n",
    "    with open(train_list_path,'w') as f:\n",
    "        for line in train_list:\n",
    "            f.write(line)\n",
    "    \n",
    "    with open(eval_list_path,'w') as f:\n",
    "        for line in eval_list:\n",
    "            f.write(line)"
   ]
  },
  {
   "cell_type": "code",
   "execution_count": 4,
   "id": "66b3a23b",
   "metadata": {
    "ExecuteTime": {
     "end_time": "2022-11-23T07:40:10.979951Z",
     "start_time": "2022-11-23T07:40:10.905463Z"
    },
    "_kg_hide-output": false,
    "execution": {
     "iopub.execute_input": "2022-11-23T03:13:33.811858Z",
     "iopub.status.busy": "2022-11-23T03:13:33.811165Z",
     "iopub.status.idle": "2022-11-23T03:13:33.866562Z",
     "shell.execute_reply": "2022-11-23T03:13:33.865588Z",
     "shell.execute_reply.started": "2022-11-23T03:13:33.811824Z"
    }
   },
   "outputs": [],
   "source": [
    "label_dict={}\n",
    "get_data_list(train_path,\"train_list.txt\",\"eval_list.txt\")"
   ]
  },
  {
   "cell_type": "code",
   "execution_count": 5,
   "id": "5a41f991",
   "metadata": {
    "ExecuteTime": {
     "end_time": "2022-11-23T07:40:10.995226Z",
     "start_time": "2022-11-23T07:40:10.980951Z"
    },
    "execution": {
     "iopub.execute_input": "2022-11-23T03:13:33.869969Z",
     "iopub.status.busy": "2022-11-23T03:13:33.869228Z",
     "iopub.status.idle": "2022-11-23T03:13:33.877155Z",
     "shell.execute_reply": "2022-11-23T03:13:33.876103Z",
     "shell.execute_reply.started": "2022-11-23T03:13:33.869929Z"
    }
   },
   "outputs": [
    {
     "data": {
      "text/plain": [
       "{'0': 'Black-grass',\n",
       " '1': 'Charlock',\n",
       " '2': 'Cleavers',\n",
       " '3': 'Common Chickweed',\n",
       " '4': 'Common wheat',\n",
       " '5': 'Fat Hen',\n",
       " '6': 'Loose Silky-bent',\n",
       " '7': 'Maize',\n",
       " '8': 'Scentless Mayweed',\n",
       " '9': 'Shepherds Purse',\n",
       " '10': 'Small-flowered Cranesbill',\n",
       " '11': 'Sugar beet'}"
      ]
     },
     "execution_count": 5,
     "metadata": {},
     "output_type": "execute_result"
    }
   ],
   "source": [
    "label_dict"
   ]
  },
  {
   "cell_type": "markdown",
   "id": "47cd5368",
   "metadata": {},
   "source": [
    "# 定义Dataset"
   ]
  },
  {
   "cell_type": "code",
   "execution_count": 6,
   "id": "78a91044",
   "metadata": {
    "ExecuteTime": {
     "end_time": "2022-11-23T07:40:13.438712Z",
     "start_time": "2022-11-23T07:40:10.997226Z"
    },
    "execution": {
     "iopub.execute_input": "2022-11-23T03:13:33.879479Z",
     "iopub.status.busy": "2022-11-23T03:13:33.878823Z",
     "iopub.status.idle": "2022-11-23T03:13:33.891232Z",
     "shell.execute_reply": "2022-11-23T03:13:33.890267Z",
     "shell.execute_reply.started": "2022-11-23T03:13:33.879441Z"
    }
   },
   "outputs": [
    {
     "name": "stderr",
     "output_type": "stream",
     "text": [
      "C:\\Users\\lazybug\\Anaconda3\\envs\\pytorch\\lib\\site-packages\\tqdm\\auto.py:22: TqdmWarning: IProgress not found. Please update jupyter and ipywidgets. See https://ipywidgets.readthedocs.io/en/stable/user_install.html\n",
      "  from .autonotebook import tqdm as notebook_tqdm\n"
     ]
    }
   ],
   "source": [
    "from PIL import Image \n",
    "import torch\n",
    "import numpy as np\n",
    "class Reader(torch.utils.data.Dataset):\n",
    "    def __init__(self,path):\n",
    "        super().__init__()\n",
    "        \n",
    "        self.img_paths=[]\n",
    "        self.labels=[]\n",
    "        \n",
    "        with open(path,'r',encoding='utf-8') as f:\n",
    "            for line in f.readlines():\n",
    "                self.img_paths.append(line.strip().split('\\t')[0])\n",
    "                self.labels.append(int(line.strip().split('\\t')[1]))\n",
    "\n",
    "    def __getitem__(self,index):\n",
    "\n",
    "        img_path=self.img_paths[index]\n",
    "        label=self.labels[index]\n",
    "        \n",
    "        img=Image.open(img_path)\n",
    "        if img.mode !='RGB':\n",
    "            img=img.convert('RGB')\n",
    "        img=img.resize((224,224),Image.BILINEAR)\n",
    "        img=np.array(img).astype('float32')\n",
    "        img=img.transpose((2,0,1))\n",
    "        img/=255.0\n",
    "        \n",
    "        label=np.array([label],dtype='int64')\n",
    "        return img,label\n",
    "    \n",
    "    def pt(self,index):\n",
    "        print(\"路径:{}\\t 标签值:{}\".format(self.img_paths[index],self.labels[index]))\n",
    "\n",
    "    def __len__(self):\n",
    "        return len(self.img_paths)"
   ]
  },
  {
   "cell_type": "code",
   "execution_count": 7,
   "id": "2195b02a",
   "metadata": {
    "ExecuteTime": {
     "end_time": "2022-11-23T07:40:13.454748Z",
     "start_time": "2022-11-23T07:40:13.440667Z"
    },
    "execution": {
     "iopub.execute_input": "2022-11-23T03:13:33.893552Z",
     "iopub.status.busy": "2022-11-23T03:13:33.892822Z",
     "iopub.status.idle": "2022-11-23T03:13:33.908374Z",
     "shell.execute_reply": "2022-11-23T03:13:33.907560Z",
     "shell.execute_reply.started": "2022-11-23T03:13:33.893496Z"
    }
   },
   "outputs": [],
   "source": [
    "batch_size=4"
   ]
  },
  {
   "cell_type": "code",
   "execution_count": 8,
   "id": "8ff086a2",
   "metadata": {
    "ExecuteTime": {
     "end_time": "2022-11-23T07:40:13.485626Z",
     "start_time": "2022-11-23T07:40:13.456797Z"
    },
    "execution": {
     "iopub.execute_input": "2022-11-23T03:13:33.910684Z",
     "iopub.status.busy": "2022-11-23T03:13:33.909987Z",
     "iopub.status.idle": "2022-11-23T03:13:33.929624Z",
     "shell.execute_reply": "2022-11-23T03:13:33.928592Z",
     "shell.execute_reply.started": "2022-11-23T03:13:33.910647Z"
    }
   },
   "outputs": [],
   "source": [
    "train_dataset=Reader(\"train_list.txt\")\n",
    "train_loader=torch.utils.data.DataLoader(train_dataset,batch_size=batch_size,shuffle=True)\n",
    "\n",
    "\n",
    "eval_dataset=Reader(\"eval_list.txt\")\n",
    "eval_loader=torch.utils.data.DataLoader(eval_dataset,batch_size=batch_size,shuffle=False)"
   ]
  },
  {
   "cell_type": "code",
   "execution_count": 9,
   "id": "0d0ff802",
   "metadata": {
    "ExecuteTime": {
     "end_time": "2022-11-23T07:40:13.500743Z",
     "start_time": "2022-11-23T07:40:13.487140Z"
    },
    "execution": {
     "iopub.execute_input": "2022-11-23T03:13:33.933333Z",
     "iopub.status.busy": "2022-11-23T03:13:33.932695Z",
     "iopub.status.idle": "2022-11-23T03:13:33.939605Z",
     "shell.execute_reply": "2022-11-23T03:13:33.938572Z",
     "shell.execute_reply.started": "2022-11-23T03:13:33.933297Z"
    }
   },
   "outputs": [
    {
     "name": "stdout",
     "output_type": "stream",
     "text": [
      "路径:plant-seedlings-classification\\train\\Cleavers\\98ad03ef1.png\t 标签值:2\n",
      "训练集样本数:4275\n",
      "测试集样本数:475\n",
      "路径:plant-seedlings-classification\\train\\Black-grass\\0b3e7a7a9.png\t 标签值:0\n"
     ]
    }
   ],
   "source": [
    "train_dataset.pt(100)\n",
    "print(\"训练集样本数:%i\"%train_dataset.__len__())\n",
    "print(\"测试集样本数:%i\"%eval_dataset.__len__())\n",
    "eval_dataset.pt(0)"
   ]
  },
  {
   "cell_type": "code",
   "execution_count": 10,
   "id": "38bfcd12",
   "metadata": {
    "ExecuteTime": {
     "end_time": "2022-11-23T07:40:13.515984Z",
     "start_time": "2022-11-23T07:40:13.503362Z"
    },
    "execution": {
     "iopub.execute_input": "2022-11-23T03:13:33.942777Z",
     "iopub.status.busy": "2022-11-23T03:13:33.941884Z",
     "iopub.status.idle": "2022-11-23T03:13:33.949642Z",
     "shell.execute_reply": "2022-11-23T03:13:33.948749Z",
     "shell.execute_reply.started": "2022-11-23T03:13:33.942739Z"
    }
   },
   "outputs": [],
   "source": [
    "# for data in train_loader:\n",
    "#     x,y = data\n",
    "#     print(x.shape)\n",
    "#     print(y.shape)\n",
    "#     print(y)\n",
    "#     print(x)\n",
    "#     break"
   ]
  },
  {
   "cell_type": "markdown",
   "id": "79f03ade",
   "metadata": {},
   "source": [
    "# 配置模型"
   ]
  },
  {
   "cell_type": "code",
   "execution_count": 11,
   "id": "d78650b9",
   "metadata": {
    "ExecuteTime": {
     "end_time": "2022-11-23T07:40:13.531628Z",
     "start_time": "2022-11-23T07:40:13.517501Z"
    },
    "execution": {
     "iopub.execute_input": "2022-11-23T03:13:33.951012Z",
     "iopub.status.busy": "2022-11-23T03:13:33.950760Z",
     "iopub.status.idle": "2022-11-23T03:13:33.962094Z",
     "shell.execute_reply": "2022-11-23T03:13:33.960902Z",
     "shell.execute_reply.started": "2022-11-23T03:13:33.950989Z"
    }
   },
   "outputs": [],
   "source": [
    "class ConvPool(torch.nn.Module):\n",
    "    def __init__(self,num_channels,num_filters,filter_size,pool_size,pool_stride,groups,conv_stride=1,conv_padding=1):\n",
    "        super(ConvPool,self).__init__()\n",
    "\n",
    "        for i in range(groups):\n",
    "            self.add_module(\n",
    "                \"conv_%d\"%i,\n",
    "                torch.nn.Conv2d(\n",
    "                    in_channels=num_channels,\n",
    "                    out_channels=num_filters,\n",
    "                    kernel_size=filter_size,\n",
    "                    stride=conv_stride,\n",
    "                    padding=conv_padding\n",
    "                )\n",
    "            )\n",
    "            num_channels=num_filters # 循环中下次的输入通道和上次的输出通道数相同\n",
    "            self.add_module(\n",
    "                'BN_%d'%i,\n",
    "                torch.nn.BatchNorm2d(num_channels)\n",
    "            )\n",
    "            self.add_module(\n",
    "                'relu%d'%i,\n",
    "                torch.nn.ReLU()\n",
    "            )\n",
    "            \n",
    "        \n",
    "        self.add_module(\n",
    "            'Maxpool',\n",
    "            torch.nn.MaxPool2d(\n",
    "                kernel_size=pool_size,\n",
    "                stride=pool_stride\n",
    "            )\n",
    "        )\n",
    "    def forward(self,inputs):\n",
    "        x=inputs\n",
    "        for prefix,sub_layer in self.named_children():\n",
    "            x=sub_layer(x)\n",
    "        return x"
   ]
  },
  {
   "cell_type": "code",
   "execution_count": 12,
   "id": "146c6084",
   "metadata": {
    "ExecuteTime": {
     "end_time": "2022-11-23T07:40:13.546791Z",
     "start_time": "2022-11-23T07:40:13.533145Z"
    },
    "execution": {
     "iopub.execute_input": "2022-11-23T03:13:33.965169Z",
     "iopub.status.busy": "2022-11-23T03:13:33.964416Z",
     "iopub.status.idle": "2022-11-23T03:13:33.979210Z",
     "shell.execute_reply": "2022-11-23T03:13:33.978093Z",
     "shell.execute_reply.started": "2022-11-23T03:13:33.965129Z"
    }
   },
   "outputs": [],
   "source": [
    "\n",
    "class VGGNet(torch.nn.Module):\n",
    "    def __init__(self):\n",
    "        super(VGGNet,self).__init__()\n",
    "        self.convpool01=ConvPool(3,64,3,2,2,2)\n",
    "        self.convpool02=ConvPool(64,128,3,2,2,2)\n",
    "        self.convpool03=ConvPool(128,256,3,2,2,3)\n",
    "        self.convpool04=ConvPool(256,512,3,2,2,3)\n",
    "        self.convpool05=ConvPool(512,512,3,2,2,3)\n",
    "\n",
    "        self.fc01=torch.nn.Linear(512*7*7,4096)\n",
    "        self.fc02=torch.nn.Linear(4096,4096)\n",
    "        self.fc03=torch.nn.Linear(4096,12)\n",
    "\n",
    "    def forward(self,inputs):\n",
    "        # print('input_size:{}'.format(inputs.shape))\n",
    "        \n",
    "        x=self.convpool01(inputs)\n",
    "#         print(self.convpool01.state_dict())\n",
    "        x=self.convpool02(x)\n",
    "        x=self.convpool03(x)\n",
    "        \n",
    "        \n",
    "        \n",
    "        x=self.convpool04(x)\n",
    "        x=self.convpool05(x)\n",
    "        \n",
    "        x=torch.reshape(x,[-1,512*7*7])\n",
    "        x=self.fc01(x)\n",
    "        x=self.fc02(x)\n",
    "        y=self.fc03(x)\n",
    "        return y"
   ]
  },
  {
   "cell_type": "code",
   "execution_count": 13,
   "id": "f131ebf7",
   "metadata": {
    "ExecuteTime": {
     "end_time": "2022-11-23T07:40:13.561976Z",
     "start_time": "2022-11-23T07:40:13.548310Z"
    },
    "execution": {
     "iopub.execute_input": "2022-11-23T03:13:33.981182Z",
     "iopub.status.busy": "2022-11-23T03:13:33.980669Z",
     "iopub.status.idle": "2022-11-23T03:13:33.996793Z",
     "shell.execute_reply": "2022-11-23T03:13:33.995770Z",
     "shell.execute_reply.started": "2022-11-23T03:13:33.981147Z"
    }
   },
   "outputs": [],
   "source": [
    "class test_model(torch.nn.Module):\n",
    "    def __init__(self):\n",
    "        super().__init__()\n",
    "        self.convpool01=ConvPool(3,64,3,2,2,2)\n",
    "        self.convpool02=ConvPool(64,128,3,2,2,2)\n",
    "        self.fc01=torch.nn.Linear(128*56*56,12)\n",
    "        self.fc02=torch.nn.Linear(12,12)\n",
    "        self.fc03=torch.nn.Linear(12,12)\n",
    "        \n",
    "    \n",
    "    def forward(self,x):\n",
    "        x=self.convpool01(x)\n",
    "        x=self.convpool02(x)\n",
    "        x=self.fc01(x.reshape([-1,128*56*56]))\n",
    "        x=self.fc02(x)\n",
    "        x=self.fc03(x)\n",
    "        return x"
   ]
  },
  {
   "cell_type": "code",
   "execution_count": 14,
   "id": "e0eac4a0",
   "metadata": {
    "ExecuteTime": {
     "end_time": "2022-11-23T07:40:14.140164Z",
     "start_time": "2022-11-23T07:40:13.563497Z"
    },
    "execution": {
     "iopub.execute_input": "2022-11-23T03:13:34.000657Z",
     "iopub.status.busy": "2022-11-23T03:13:34.000180Z",
     "iopub.status.idle": "2022-11-23T03:13:35.390714Z",
     "shell.execute_reply": "2022-11-23T03:13:35.389568Z",
     "shell.execute_reply.started": "2022-11-23T03:13:34.000623Z"
    }
   },
   "outputs": [
    {
     "name": "stdout",
     "output_type": "stream",
     "text": [
      "VGGNet(\n",
      "  (convpool01): ConvPool(\n",
      "    (conv_0): Conv2d(3, 64, kernel_size=(3, 3), stride=(1, 1), padding=(1, 1))\n",
      "    (BN_0): BatchNorm2d(64, eps=1e-05, momentum=0.1, affine=True, track_running_stats=True)\n",
      "    (relu0): ReLU()\n",
      "    (conv_1): Conv2d(64, 64, kernel_size=(3, 3), stride=(1, 1), padding=(1, 1))\n",
      "    (BN_1): BatchNorm2d(64, eps=1e-05, momentum=0.1, affine=True, track_running_stats=True)\n",
      "    (relu1): ReLU()\n",
      "    (Maxpool): MaxPool2d(kernel_size=2, stride=2, padding=0, dilation=1, ceil_mode=False)\n",
      "  )\n",
      "  (convpool02): ConvPool(\n",
      "    (conv_0): Conv2d(64, 128, kernel_size=(3, 3), stride=(1, 1), padding=(1, 1))\n",
      "    (BN_0): BatchNorm2d(128, eps=1e-05, momentum=0.1, affine=True, track_running_stats=True)\n",
      "    (relu0): ReLU()\n",
      "    (conv_1): Conv2d(128, 128, kernel_size=(3, 3), stride=(1, 1), padding=(1, 1))\n",
      "    (BN_1): BatchNorm2d(128, eps=1e-05, momentum=0.1, affine=True, track_running_stats=True)\n",
      "    (relu1): ReLU()\n",
      "    (Maxpool): MaxPool2d(kernel_size=2, stride=2, padding=0, dilation=1, ceil_mode=False)\n",
      "  )\n",
      "  (convpool03): ConvPool(\n",
      "    (conv_0): Conv2d(128, 256, kernel_size=(3, 3), stride=(1, 1), padding=(1, 1))\n",
      "    (BN_0): BatchNorm2d(256, eps=1e-05, momentum=0.1, affine=True, track_running_stats=True)\n",
      "    (relu0): ReLU()\n",
      "    (conv_1): Conv2d(256, 256, kernel_size=(3, 3), stride=(1, 1), padding=(1, 1))\n",
      "    (BN_1): BatchNorm2d(256, eps=1e-05, momentum=0.1, affine=True, track_running_stats=True)\n",
      "    (relu1): ReLU()\n",
      "    (conv_2): Conv2d(256, 256, kernel_size=(3, 3), stride=(1, 1), padding=(1, 1))\n",
      "    (BN_2): BatchNorm2d(256, eps=1e-05, momentum=0.1, affine=True, track_running_stats=True)\n",
      "    (relu2): ReLU()\n",
      "    (Maxpool): MaxPool2d(kernel_size=2, stride=2, padding=0, dilation=1, ceil_mode=False)\n",
      "  )\n",
      "  (convpool04): ConvPool(\n",
      "    (conv_0): Conv2d(256, 512, kernel_size=(3, 3), stride=(1, 1), padding=(1, 1))\n",
      "    (BN_0): BatchNorm2d(512, eps=1e-05, momentum=0.1, affine=True, track_running_stats=True)\n",
      "    (relu0): ReLU()\n",
      "    (conv_1): Conv2d(512, 512, kernel_size=(3, 3), stride=(1, 1), padding=(1, 1))\n",
      "    (BN_1): BatchNorm2d(512, eps=1e-05, momentum=0.1, affine=True, track_running_stats=True)\n",
      "    (relu1): ReLU()\n",
      "    (conv_2): Conv2d(512, 512, kernel_size=(3, 3), stride=(1, 1), padding=(1, 1))\n",
      "    (BN_2): BatchNorm2d(512, eps=1e-05, momentum=0.1, affine=True, track_running_stats=True)\n",
      "    (relu2): ReLU()\n",
      "    (Maxpool): MaxPool2d(kernel_size=2, stride=2, padding=0, dilation=1, ceil_mode=False)\n",
      "  )\n",
      "  (convpool05): ConvPool(\n",
      "    (conv_0): Conv2d(512, 512, kernel_size=(3, 3), stride=(1, 1), padding=(1, 1))\n",
      "    (BN_0): BatchNorm2d(512, eps=1e-05, momentum=0.1, affine=True, track_running_stats=True)\n",
      "    (relu0): ReLU()\n",
      "    (conv_1): Conv2d(512, 512, kernel_size=(3, 3), stride=(1, 1), padding=(1, 1))\n",
      "    (BN_1): BatchNorm2d(512, eps=1e-05, momentum=0.1, affine=True, track_running_stats=True)\n",
      "    (relu1): ReLU()\n",
      "    (conv_2): Conv2d(512, 512, kernel_size=(3, 3), stride=(1, 1), padding=(1, 1))\n",
      "    (BN_2): BatchNorm2d(512, eps=1e-05, momentum=0.1, affine=True, track_running_stats=True)\n",
      "    (relu2): ReLU()\n",
      "    (Maxpool): MaxPool2d(kernel_size=2, stride=2, padding=0, dilation=1, ceil_mode=False)\n",
      "  )\n",
      "  (fc01): Linear(in_features=25088, out_features=4096, bias=True)\n",
      "  (fc02): Linear(in_features=4096, out_features=4096, bias=True)\n",
      "  (fc03): Linear(in_features=4096, out_features=12, bias=True)\n",
      ")\n"
     ]
    }
   ],
   "source": [
    "model=VGGNet()\n",
    "# model=test_model()\n",
    "print(model)\n"
   ]
  },
  {
   "cell_type": "code",
   "execution_count": 15,
   "id": "2b7e1c29",
   "metadata": {
    "ExecuteTime": {
     "end_time": "2022-11-23T07:40:14.155416Z",
     "start_time": "2022-11-23T07:40:14.141095Z"
    },
    "execution": {
     "iopub.execute_input": "2022-11-23T03:13:35.393141Z",
     "iopub.status.busy": "2022-11-23T03:13:35.392461Z",
     "iopub.status.idle": "2022-11-23T03:13:35.406699Z",
     "shell.execute_reply": "2022-11-23T03:13:35.405452Z",
     "shell.execute_reply.started": "2022-11-23T03:13:35.393098Z"
    }
   },
   "outputs": [],
   "source": [
    "def fit(epochs):\n",
    "    device = torch.device('cuda')\n",
    "    model.to(device)\n",
    "    model.train()\n",
    "\n",
    "    cross_entropy=torch.nn.CrossEntropyLoss()\n",
    "    opt=torch.optim.Adam(params=model.parameters(),lr=0.0001)\n",
    "\n",
    "    steps=0\n",
    "    maxacc=0\n",
    "    for epo in range(epochs):\n",
    "        for batch_id,data in enumerate(train_loader):\n",
    "            opt.zero_grad()\n",
    "            x=data[0].to(device)\n",
    "            y=data[1].to(device)\n",
    "            pred=model(x)\n",
    "            print(pred.shape,y.shape)\n",
    "            loss=cross_entropy(pred,y.squeeze())\n",
    "            res = torch.argmax(pred,1)\n",
    "#             print(res,y.squeeze())\n",
    "            acc = ((torch.eq(res,y.squeeze())).sum()).item()/res.shape[0]\n",
    "#             acc=(pred==y).mean()\n",
    "            loss.backward()\n",
    "            opt.step()\n",
    "\n",
    "\n",
    "            steps+=1\n",
    "            if steps%10==0:\n",
    "                print(\"epoch:{},step:{},loss:{},acc:{}\".format(epo,steps,loss.item(),acc))\n",
    "                losses=[]\n",
    "                accs=[]\n",
    "                for eval_data in eval_loader:\n",
    "                    eval_x=eval_data[0].to(device)\n",
    "                    eval_y=eval_data[1].to(device)\n",
    "                    eval_pred=model(eval_x)\n",
    "                    eval_loss=cross_entropy(eval_pred,eval_y.squeeze())\n",
    "                    eval_res=torch.argmax(eval_pred,1)\n",
    "                    eval_acc=((torch.eq(eval_res,eval_y.squeeze())).sum()).item()/eval_res.shape[0]\n",
    "                    losses.append(float(eval_loss))\n",
    "                    accs.append(float(eval_acc))\n",
    "                    avg_acc=sum(accs)/len(accs)\n",
    "                print(\"[Valid]  eval_loss:{},eval_acc:{}\".format(sum(losses)/len(losses),avg_acc))\n",
    "                    \n",
    "\n",
    "                if maxacc<avg_acc:\n",
    "                    maxacc=avg_acc\n",
    "                    save_path='best.pd'\n",
    "                    print('save to %s'%save_path)\n",
    "                    torch.save(model.state_dict(),save_path)\n",
    "            \n",
    "\n",
    "        torch.save(model.state_dict(),\"final.pd\")"
   ]
  },
  {
   "cell_type": "code",
   "execution_count": 16,
   "id": "3859ea42",
   "metadata": {
    "ExecuteTime": {
     "end_time": "2022-11-23T07:40:38.985686Z",
     "start_time": "2022-11-23T07:40:14.157010Z"
    },
    "execution": {
     "iopub.execute_input": "2022-11-23T03:13:35.410819Z",
     "iopub.status.busy": "2022-11-23T03:13:35.410166Z",
     "iopub.status.idle": "2022-11-23T06:09:25.001377Z",
     "shell.execute_reply": "2022-11-23T06:09:25.000345Z",
     "shell.execute_reply.started": "2022-11-23T03:13:35.410790Z"
    },
    "scrolled": true
   },
   "outputs": [
    {
     "name": "stderr",
     "output_type": "stream",
     "text": [
      "C:\\Users\\lazybug\\AppData\\Local\\Temp\\ipykernel_3516\\119740133.py:24: DeprecationWarning: BILINEAR is deprecated and will be removed in Pillow 10 (2023-07-01). Use Resampling.BILINEAR instead.\n",
      "  img=img.resize((224,224),Image.BILINEAR)\n"
     ]
    },
    {
     "name": "stdout",
     "output_type": "stream",
     "text": [
      "torch.Size([4, 4096]) torch.Size([4, 1])\n",
      "torch.Size([4, 4096]) torch.Size([4, 1])\n",
      "torch.Size([4, 4096]) torch.Size([4, 1])\n",
      "torch.Size([4, 4096]) torch.Size([4, 1])\n",
      "torch.Size([4, 4096]) torch.Size([4, 1])\n",
      "torch.Size([4, 4096]) torch.Size([4, 1])\n",
      "torch.Size([4, 4096]) torch.Size([4, 1])\n",
      "torch.Size([4, 4096]) torch.Size([4, 1])\n",
      "torch.Size([4, 4096]) torch.Size([4, 1])\n",
      "torch.Size([4, 4096]) torch.Size([4, 1])\n",
      "epoch:0,step:10,loss:9.658984184265137,acc:0.25\n",
      "[Valid]  eval_loss:16.85707255387131,eval_acc:0.1092436974789916\n",
      "save to best.pd\n",
      "torch.Size([4, 4096]) torch.Size([4, 1])\n",
      "torch.Size([4, 4096]) torch.Size([4, 1])\n",
      "torch.Size([4, 4096]) torch.Size([4, 1])\n",
      "torch.Size([4, 4096]) torch.Size([4, 1])\n",
      "torch.Size([4, 4096]) torch.Size([4, 1])\n",
      "torch.Size([4, 4096]) torch.Size([4, 1])\n",
      "torch.Size([4, 4096]) torch.Size([4, 1])\n",
      "torch.Size([4, 4096]) torch.Size([4, 1])\n",
      "torch.Size([4, 4096]) torch.Size([4, 1])\n",
      "torch.Size([4, 4096]) torch.Size([4, 1])\n",
      "epoch:0,step:20,loss:5.698254108428955,acc:0.25\n"
     ]
    },
    {
     "ename": "KeyboardInterrupt",
     "evalue": "",
     "output_type": "error",
     "traceback": [
      "\u001b[1;31m---------------------------------------------------------------------------\u001b[0m",
      "\u001b[1;31mKeyboardInterrupt\u001b[0m                         Traceback (most recent call last)",
      "Input \u001b[1;32mIn [16]\u001b[0m, in \u001b[0;36m<cell line: 1>\u001b[1;34m()\u001b[0m\n\u001b[1;32m----> 1\u001b[0m \u001b[43mfit\u001b[49m\u001b[43m(\u001b[49m\u001b[43mepochs\u001b[49m\u001b[38;5;241;43m=\u001b[39;49m\u001b[38;5;241;43m50\u001b[39;49m\u001b[43m)\u001b[49m\n",
      "Input \u001b[1;32mIn [15]\u001b[0m, in \u001b[0;36mfit\u001b[1;34m(epochs)\u001b[0m\n\u001b[0;32m     36\u001b[0m eval_loss\u001b[38;5;241m=\u001b[39mcross_entropy(eval_pred,eval_y\u001b[38;5;241m.\u001b[39msqueeze())\n\u001b[0;32m     37\u001b[0m eval_res\u001b[38;5;241m=\u001b[39mtorch\u001b[38;5;241m.\u001b[39margmax(eval_pred,\u001b[38;5;241m1\u001b[39m)\n\u001b[1;32m---> 38\u001b[0m eval_acc\u001b[38;5;241m=\u001b[39m\u001b[43m(\u001b[49m\u001b[43m(\u001b[49m\u001b[43mtorch\u001b[49m\u001b[38;5;241;43m.\u001b[39;49m\u001b[43meq\u001b[49m\u001b[43m(\u001b[49m\u001b[43meval_res\u001b[49m\u001b[43m,\u001b[49m\u001b[43meval_y\u001b[49m\u001b[38;5;241;43m.\u001b[39;49m\u001b[43msqueeze\u001b[49m\u001b[43m(\u001b[49m\u001b[43m)\u001b[49m\u001b[43m)\u001b[49m\u001b[43m)\u001b[49m\u001b[38;5;241;43m.\u001b[39;49m\u001b[43msum\u001b[49m\u001b[43m(\u001b[49m\u001b[43m)\u001b[49m\u001b[43m)\u001b[49m\u001b[38;5;241;43m.\u001b[39;49m\u001b[43mitem\u001b[49m\u001b[43m(\u001b[49m\u001b[43m)\u001b[49m\u001b[38;5;241m/\u001b[39meval_res\u001b[38;5;241m.\u001b[39mshape[\u001b[38;5;241m0\u001b[39m]\n\u001b[0;32m     39\u001b[0m losses\u001b[38;5;241m.\u001b[39mappend(\u001b[38;5;28mfloat\u001b[39m(eval_loss))\n\u001b[0;32m     40\u001b[0m accs\u001b[38;5;241m.\u001b[39mappend(\u001b[38;5;28mfloat\u001b[39m(eval_acc))\n",
      "\u001b[1;31mKeyboardInterrupt\u001b[0m: "
     ]
    }
   ],
   "source": [
    "fit(epochs=2)"
   ]
  },
  {
   "cell_type": "markdown",
   "id": "fee235ab",
   "metadata": {},
   "source": [
    "# 保存模型"
   ]
  },
  {
   "cell_type": "code",
   "execution_count": null,
   "id": "f6b2ab84",
   "metadata": {
    "ExecuteTime": {
     "end_time": "2022-11-23T07:40:38.987686Z",
     "start_time": "2022-11-23T07:40:38.987686Z"
    },
    "execution": {
     "iopub.execute_input": "2022-11-23T06:18:13.822031Z",
     "iopub.status.busy": "2022-11-23T06:18:13.821611Z",
     "iopub.status.idle": "2022-11-23T06:18:15.685556Z",
     "shell.execute_reply": "2022-11-23T06:18:15.684067Z",
     "shell.execute_reply.started": "2022-11-23T06:18:13.821999Z"
    }
   },
   "outputs": [],
   "source": [
    "torch.save(model.state_dict(),\"final.pd\")"
   ]
  },
  {
   "cell_type": "markdown",
   "id": "23999bed",
   "metadata": {
    "execution": {
     "iopub.status.busy": "2022-11-22T12:14:05.742812Z",
     "iopub.status.idle": "2022-11-22T12:14:05.743550Z",
     "shell.execute_reply": "2022-11-22T12:14:05.743315Z",
     "shell.execute_reply.started": "2022-11-22T12:14:05.743290Z"
    }
   },
   "source": [
    "# 加载模型"
   ]
  },
  {
   "cell_type": "code",
   "execution_count": null,
   "id": "c514521a",
   "metadata": {
    "ExecuteTime": {
     "end_time": "2022-11-23T07:40:38.989212Z",
     "start_time": "2022-11-23T07:40:38.989212Z"
    },
    "execution": {
     "iopub.execute_input": "2022-11-23T06:09:26.817000Z",
     "iopub.status.busy": "2022-11-23T06:09:26.813399Z",
     "iopub.status.idle": "2022-11-23T06:09:28.804312Z",
     "shell.execute_reply": "2022-11-23T06:09:28.803247Z",
     "shell.execute_reply.started": "2022-11-23T06:09:26.816956Z"
    }
   },
   "outputs": [],
   "source": [
    "state_path='final.pd'\n",
    "\n",
    "class ConvPool(torch.nn.Module):\n",
    "    def __init__(self,num_channels,num_filters,filter_size,pool_size,pool_stride,groups,conv_stride=1,conv_padding=1):\n",
    "        super(ConvPool,self).__init__()\n",
    "\n",
    "        for i in range(groups):\n",
    "            self.add_module(\n",
    "                \"conv_%d\"%i,\n",
    "                torch.nn.Conv2d(\n",
    "                    in_channels=num_channels,\n",
    "                    out_channels=num_filters,\n",
    "                    kernel_size=filter_size,\n",
    "                    stride=conv_stride,\n",
    "                    padding=conv_padding\n",
    "                )\n",
    "            )\n",
    "            num_channels=num_filters # 循环中下次的输入通道和上次的输出通道数相同\n",
    "            self.add_module(\n",
    "                'BN_%d'%i,\n",
    "                torch.nn.BatchNorm2d(num_channels)\n",
    "            )\n",
    "            self.add_module(\n",
    "                'relu%d'%i,\n",
    "                torch.nn.ReLU()\n",
    "            )\n",
    "            \n",
    "        \n",
    "        self.add_module(\n",
    "            'Maxpool',\n",
    "            torch.nn.MaxPool2d(\n",
    "                kernel_size=pool_size,\n",
    "                stride=pool_stride\n",
    "            )\n",
    "        )\n",
    "    def forward(self,inputs):\n",
    "        x=inputs\n",
    "        for prefix,sub_layer in self.named_children():\n",
    "            x=sub_layer(x)\n",
    "        return x\n",
    "    \n",
    "\n",
    "\n",
    "class VGGNet(torch.nn.Module):\n",
    "    def __init__(self):\n",
    "        super(VGGNet,self).__init__()\n",
    "        self.convpool01=ConvPool(3,64,3,2,2,2)\n",
    "        self.convpool02=ConvPool(64,128,3,2,2,2)\n",
    "        self.convpool03=ConvPool(128,256,3,2,2,3)\n",
    "        self.convpool04=ConvPool(256,512,3,2,2,3)\n",
    "        self.convpool05=ConvPool(512,512,3,2,2,3)\n",
    "\n",
    "        self.fc01=torch.nn.Linear(512*7*7,4096)\n",
    "        self.fc02=torch.nn.Linear(4096,4096)\n",
    "        self.fc03=torch.nn.Linear(4096,12)\n",
    "\n",
    "    def forward(self,inputs):\n",
    "        # print('input_size:{}'.format(inputs.shape))\n",
    "        \n",
    "        x=self.convpool01(inputs)\n",
    "#         print(self.convpool01.state_dict())\n",
    "        x=self.convpool02(x)\n",
    "        x=self.convpool03(x)\n",
    "        \n",
    "        \n",
    "        \n",
    "        x=self.convpool04(x)\n",
    "        x=self.convpool05(x)\n",
    "        \n",
    "        x=torch.reshape(x,[-1,512*7*7])\n",
    "        x=self.fc01(x)\n",
    "        x=self.fc02(x)\n",
    "        y=self.fc03(x)\n",
    "        return x\n",
    "    \n",
    "\n",
    "    model=VGGNet()\n",
    "    model.load_state_dict(torch.load(state_path))"
   ]
  },
  {
   "cell_type": "markdown",
   "id": "bc518696",
   "metadata": {},
   "source": [
    "# 预测"
   ]
  },
  {
   "cell_type": "code",
   "execution_count": null,
   "id": "3d99d187",
   "metadata": {
    "ExecuteTime": {
     "end_time": "2022-11-23T07:40:38.989741Z",
     "start_time": "2022-11-23T07:40:38.989741Z"
    },
    "execution": {
     "iopub.execute_input": "2022-11-23T06:09:28.808110Z",
     "iopub.status.busy": "2022-11-23T06:09:28.807729Z",
     "iopub.status.idle": "2022-11-23T06:09:46.115445Z",
     "shell.execute_reply": "2022-11-23T06:09:46.114387Z",
     "shell.execute_reply.started": "2022-11-23T06:09:28.808073Z"
    }
   },
   "outputs": [],
   "source": [
    "def get_test_list(path,test_list_path):\n",
    "    \n",
    "    imgs=os.listdir(path)\n",
    "    test_list=[]\n",
    "\n",
    "    for img in imgs:\n",
    "        img_path=os.path.join(path,img)\n",
    "        test_list.append(img_path+\"\\n\")\n",
    "#         print(img_path)\n",
    "    with open(test_list_path,'w') as f:\n",
    "        for line in test_list:\n",
    "            f.write(line)\n",
    "            \n",
    "            \n",
    "\n",
    "\n",
    "\n",
    "from PIL import Image \n",
    "import torch\n",
    "import numpy as np\n",
    "class Test_Reader(torch.utils.data.Dataset):\n",
    "    def __init__(self,path):\n",
    "        super().__init__()\n",
    "        \n",
    "        self.img_paths=[]\n",
    "        \n",
    "        with open(path,'r',encoding='utf-8') as f:\n",
    "            for line in f.readlines():\n",
    "                self.img_paths.append(line.strip())\n",
    "        self.img_paths.sort()\n",
    "\n",
    "    def __getitem__(self,index):\n",
    "\n",
    "        img_path=self.img_paths[index]\n",
    "        \n",
    "        img=Image.open(img_path)\n",
    "        if img.mode !='RGB':\n",
    "            img=img.convert('RGB')\n",
    "        img=img.resize((224,224),Image.BILINEAR)\n",
    "        img=np.array(img).astype('float32')\n",
    "        img=img.transpose((2,0,1))\n",
    "        img/=255.0\n",
    "        \n",
    "        return img,img_path\n",
    "\n",
    "\n",
    "    def __len__(self):\n",
    "        return len(self.img_paths)\n",
    "\n",
    "get_test_list(test_path,\"test_list.txt\")\n",
    "test_dataset=Test_Reader(\"test_list.txt\")\n",
    "test_loader=torch.utils.data.DataLoader(test_dataset,batch_size=1,shuffle=False)\n",
    "\n",
    "device = torch.device('cuda')\n",
    "with open('submit.csv','w') as f:\n",
    "    f.write(\"file,species\\n\")\n",
    "for test_data in test_loader:\n",
    "    test_x=test_data[0].to(device)\n",
    "    img_path=test_data[1][0]\n",
    "    test_pred=model(test_x)\n",
    "    test_res=torch.argmax(test_pred,1)\n",
    "#     print(type(test_res.item()),type(img_path),test_res.item(),img_path.strip().split(r'/')[-1])\n",
    "    with open('submit.csv','a') as f:\n",
    "        f.write(img_path.strip().split(r'/')[-1]+\",\"+label_dict[str(test_res.item())]+\"\\n\")"
   ]
  },
  {
   "cell_type": "code",
   "execution_count": null,
   "id": "2f02c853",
   "metadata": {
    "ExecuteTime": {
     "end_time": "2022-11-23T07:40:38.991728Z",
     "start_time": "2022-11-23T07:40:38.991728Z"
    },
    "execution": {
     "iopub.execute_input": "2022-11-23T06:15:58.084214Z",
     "iopub.status.busy": "2022-11-23T06:15:58.083786Z",
     "iopub.status.idle": "2022-11-23T06:15:58.111936Z",
     "shell.execute_reply": "2022-11-23T06:15:58.110826Z",
     "shell.execute_reply.started": "2022-11-23T06:15:58.084177Z"
    }
   },
   "outputs": [],
   "source": [
    "import os\n",
    "os.chdir('/kaggle/working')\n",
    "print(os.getcwd())\n",
    "print(os.listdir(\"/kaggle/working\"))\n",
    "from IPython.display import FileLink\n",
    "FileLink('final.pt')"
   ]
  },
  {
   "cell_type": "code",
   "execution_count": null,
   "id": "a58ee217",
   "metadata": {},
   "outputs": [],
   "source": []
  }
 ],
 "metadata": {
  "kernelspec": {
   "display_name": "Python 3",
   "language": "python",
   "name": "python3"
  },
  "language_info": {
   "codemirror_mode": {
    "name": "ipython",
    "version": 3
   },
   "file_extension": ".py",
   "mimetype": "text/x-python",
   "name": "python",
   "nbconvert_exporter": "python",
   "pygments_lexer": "ipython3",
   "version": "3.8.13"
  }
 },
 "nbformat": 4,
 "nbformat_minor": 5
}

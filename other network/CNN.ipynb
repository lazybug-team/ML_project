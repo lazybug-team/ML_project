{
 "cells": [
  {
   "cell_type": "markdown",
   "id": "b10b5491",
   "metadata": {},
   "source": [
    "# 数据预处理"
   ]
  },
  {
   "cell_type": "code",
   "execution_count": 1,
   "id": "992fd27f",
   "metadata": {
    "ExecuteTime": {
     "end_time": "2022-11-24T04:15:18.838980Z",
     "start_time": "2022-11-24T04:15:18.821760Z"
    },
    "execution": {
     "iopub.execute_input": "2022-11-24T03:12:47.384615Z",
     "iopub.status.busy": "2022-11-24T03:12:47.384282Z",
     "iopub.status.idle": "2022-11-24T03:12:47.417259Z",
     "shell.execute_reply": "2022-11-24T03:12:47.416336Z",
     "shell.execute_reply.started": "2022-11-24T03:12:47.384536Z"
    }
   },
   "outputs": [],
   "source": [
    "import os\n",
    "import random\n",
    "# batch_size=4\n",
    "data_path=r'plant-seedlings-classification'\n",
    "# data_path=r'/kaggle/input/plant-seedlings-classification'  #for kaggle notebook\n",
    "batch_size=32\n",
    "train_path=os.path.join(data_path,'train')\n",
    "test_path=os.path.join(data_path,'test')"
   ]
  },
  {
   "cell_type": "code",
   "execution_count": 2,
   "id": "6a158cc6",
   "metadata": {
    "ExecuteTime": {
     "end_time": "2022-11-24T04:15:18.854193Z",
     "start_time": "2022-11-24T04:15:18.840987Z"
    },
    "execution": {
     "iopub.execute_input": "2022-11-24T03:12:47.420146Z",
     "iopub.status.busy": "2022-11-24T03:12:47.419378Z",
     "iopub.status.idle": "2022-11-24T03:12:47.429970Z",
     "shell.execute_reply": "2022-11-24T03:12:47.428890Z",
     "shell.execute_reply.started": "2022-11-24T03:12:47.420106Z"
    },
    "scrolled": true
   },
   "outputs": [
    {
     "data": {
      "text/plain": [
       "('plant-seedlings-classification\\\\train',\n",
       " 'plant-seedlings-classification\\\\test')"
      ]
     },
     "execution_count": 2,
     "metadata": {},
     "output_type": "execute_result"
    }
   ],
   "source": [
    "train_path,test_path"
   ]
  },
  {
   "cell_type": "code",
   "execution_count": null,
   "id": "613fda86",
   "metadata": {},
   "outputs": [],
   "source": []
  },
  {
   "cell_type": "code",
   "execution_count": 3,
   "id": "66720919",
   "metadata": {
    "ExecuteTime": {
     "end_time": "2022-11-24T04:15:18.869451Z",
     "start_time": "2022-11-24T04:15:18.856199Z"
    },
    "execution": {
     "iopub.execute_input": "2022-11-24T03:12:47.432816Z",
     "iopub.status.busy": "2022-11-24T03:12:47.431853Z",
     "iopub.status.idle": "2022-11-24T03:12:47.443428Z",
     "shell.execute_reply": "2022-11-24T03:12:47.442373Z",
     "shell.execute_reply.started": "2022-11-24T03:12:47.432641Z"
    }
   },
   "outputs": [],
   "source": [
    "def get_data_list(path,train_list_path,eval_list_path):\n",
    "    \n",
    "#     print(\"path=%s\"%path)\n",
    "    img_classes=os.listdir(path)\n",
    "\n",
    "    train_list=[]\n",
    "    eval_list=[]\n",
    "\n",
    "    label=0\n",
    "    cnt=0\n",
    "    for img_class in img_classes:\n",
    "        label_dict[str(label)]=img_class\n",
    "#         print(\"{}:{}\".format(label,img_class))\n",
    "\n",
    "        img_class_path=os.path.join(path,img_class)\n",
    "        imgs=os.listdir(img_class_path)\n",
    "        for img in imgs:\n",
    "            img_path=os.path.join(img_class_path,img)\n",
    "            cnt+=1\n",
    "            if cnt%10==0:\n",
    "                eval_list.append(\"%s\\t%s\\n\"%(img_path,str(label)))\n",
    "#                 print(\"%s\\t%s\"%(img_path,str(label)))\n",
    "            else:\n",
    "                train_list.append(\"%s\\t%s\\n\"%(img_path,str(label)))\n",
    "#                 print(\"%s\\t%s\\n\"%(img_path,str(label)))\n",
    "        label+=1\n",
    "    \n",
    "    random.shuffle(train_list)\n",
    "    with open(train_list_path,'w') as f:\n",
    "        for line in train_list:\n",
    "            f.write(line)\n",
    "    \n",
    "    with open(eval_list_path,'w') as f:\n",
    "        for line in eval_list:\n",
    "            f.write(line)"
   ]
  },
  {
   "cell_type": "code",
   "execution_count": 4,
   "id": "18ddec73",
   "metadata": {
    "ExecuteTime": {
     "end_time": "2022-11-24T04:15:18.915079Z",
     "start_time": "2022-11-24T04:15:18.872457Z"
    },
    "_kg_hide-output": false,
    "execution": {
     "iopub.execute_input": "2022-11-24T03:12:47.446888Z",
     "iopub.status.busy": "2022-11-24T03:12:47.446438Z",
     "iopub.status.idle": "2022-11-24T03:12:48.290840Z",
     "shell.execute_reply": "2022-11-24T03:12:48.289781Z",
     "shell.execute_reply.started": "2022-11-24T03:12:47.446853Z"
    }
   },
   "outputs": [],
   "source": [
    "label_dict={}\n",
    "get_data_list(train_path,\"train_list.txt\",\"eval_list.txt\")"
   ]
  },
  {
   "cell_type": "code",
   "execution_count": 5,
   "id": "2ad9767e",
   "metadata": {
    "ExecuteTime": {
     "end_time": "2022-11-24T04:15:18.930256Z",
     "start_time": "2022-11-24T04:15:18.916085Z"
    },
    "execution": {
     "iopub.execute_input": "2022-11-24T03:12:48.293354Z",
     "iopub.status.busy": "2022-11-24T03:12:48.292635Z",
     "iopub.status.idle": "2022-11-24T03:12:48.300569Z",
     "shell.execute_reply": "2022-11-24T03:12:48.299579Z",
     "shell.execute_reply.started": "2022-11-24T03:12:48.293313Z"
    }
   },
   "outputs": [
    {
     "data": {
      "text/plain": [
       "{'0': 'Black-grass',\n",
       " '1': 'Charlock',\n",
       " '2': 'Cleavers',\n",
       " '3': 'Common Chickweed',\n",
       " '4': 'Common wheat',\n",
       " '5': 'Fat Hen',\n",
       " '6': 'Loose Silky-bent',\n",
       " '7': 'Maize',\n",
       " '8': 'Scentless Mayweed',\n",
       " '9': 'Shepherds Purse',\n",
       " '10': 'Small-flowered Cranesbill',\n",
       " '11': 'Sugar beet'}"
      ]
     },
     "execution_count": 5,
     "metadata": {},
     "output_type": "execute_result"
    }
   ],
   "source": [
    "label_dict"
   ]
  },
  {
   "cell_type": "markdown",
   "id": "749209ef",
   "metadata": {},
   "source": [
    "# 定义Dataset"
   ]
  },
  {
   "cell_type": "code",
   "execution_count": 6,
   "id": "fd5798cc",
   "metadata": {
    "ExecuteTime": {
     "end_time": "2022-11-24T04:15:19.812312Z",
     "start_time": "2022-11-24T04:15:18.932263Z"
    },
    "execution": {
     "iopub.execute_input": "2022-11-24T03:12:48.302728Z",
     "iopub.status.busy": "2022-11-24T03:12:48.302311Z",
     "iopub.status.idle": "2022-11-24T03:12:50.750150Z",
     "shell.execute_reply": "2022-11-24T03:12:50.748793Z",
     "shell.execute_reply.started": "2022-11-24T03:12:48.302663Z"
    }
   },
   "outputs": [
    {
     "name": "stderr",
     "output_type": "stream",
     "text": [
      "C:\\Users\\lazybug\\Anaconda3\\envs\\pytorch\\lib\\site-packages\\tqdm\\auto.py:22: TqdmWarning: IProgress not found. Please update jupyter and ipywidgets. See https://ipywidgets.readthedocs.io/en/stable/user_install.html\n",
      "  from .autonotebook import tqdm as notebook_tqdm\n"
     ]
    }
   ],
   "source": [
    "from PIL import Image \n",
    "import torch\n",
    "import numpy as np\n",
    "class Reader(torch.utils.data.Dataset):\n",
    "    def __init__(self,path):\n",
    "        super().__init__()\n",
    "        \n",
    "        self.img_paths=[]\n",
    "        self.labels=[]\n",
    "        \n",
    "        with open(path,'r',encoding='utf-8') as f:\n",
    "            for line in f.readlines():\n",
    "                self.img_paths.append(line.strip().split('\\t')[0])\n",
    "                self.labels.append(int(line.strip().split('\\t')[1]))\n",
    "\n",
    "    def __getitem__(self,index):\n",
    "\n",
    "        img_path=self.img_paths[index]\n",
    "        label=self.labels[index]\n",
    "        \n",
    "        img=Image.open(img_path)\n",
    "        if img.mode !='RGB':\n",
    "            img=img.convert('RGB')\n",
    "        img=img.resize((224,224),Image.BILINEAR)\n",
    "        img=np.array(img).astype('float32')\n",
    "        img=img.transpose((2,0,1))\n",
    "        img/=255.0\n",
    "        \n",
    "        label=np.array([label],dtype='int64')\n",
    "        return img,label\n",
    "    \n",
    "    def pt(self,index):\n",
    "        print(\"路径:{}\\t 标签值:{}\".format(self.img_paths[index],self.labels[index]))\n",
    "\n",
    "    def __len__(self):\n",
    "        return len(self.img_paths)"
   ]
  },
  {
   "cell_type": "code",
   "execution_count": null,
   "id": "6ccc57b8",
   "metadata": {
    "ExecuteTime": {
     "end_time": "2022-11-23T08:32:03.302094Z",
     "start_time": "2022-11-23T08:32:03.288423Z"
    }
   },
   "outputs": [],
   "source": []
  },
  {
   "cell_type": "code",
   "execution_count": 7,
   "id": "224b573f",
   "metadata": {
    "ExecuteTime": {
     "end_time": "2022-11-24T04:15:19.842774Z",
     "start_time": "2022-11-24T04:15:19.813832Z"
    },
    "execution": {
     "iopub.execute_input": "2022-11-24T03:12:50.752427Z",
     "iopub.status.busy": "2022-11-24T03:12:50.751804Z",
     "iopub.status.idle": "2022-11-24T03:12:50.770768Z",
     "shell.execute_reply": "2022-11-24T03:12:50.769699Z",
     "shell.execute_reply.started": "2022-11-24T03:12:50.752387Z"
    }
   },
   "outputs": [],
   "source": [
    "train_dataset=Reader(\"train_list.txt\")\n",
    "train_loader=torch.utils.data.DataLoader(train_dataset,batch_size=batch_size,shuffle=True)\n",
    "\n",
    "\n",
    "eval_dataset=Reader(\"eval_list.txt\")\n",
    "eval_loader=torch.utils.data.DataLoader(eval_dataset,batch_size=batch_size,shuffle=False)"
   ]
  },
  {
   "cell_type": "code",
   "execution_count": 8,
   "id": "54409113",
   "metadata": {
    "ExecuteTime": {
     "end_time": "2022-11-24T04:15:19.857999Z",
     "start_time": "2022-11-24T04:15:19.844289Z"
    },
    "execution": {
     "iopub.execute_input": "2022-11-24T03:12:50.775053Z",
     "iopub.status.busy": "2022-11-24T03:12:50.774543Z",
     "iopub.status.idle": "2022-11-24T03:12:50.782374Z",
     "shell.execute_reply": "2022-11-24T03:12:50.781334Z",
     "shell.execute_reply.started": "2022-11-24T03:12:50.775022Z"
    }
   },
   "outputs": [
    {
     "name": "stdout",
     "output_type": "stream",
     "text": [
      "路径:plant-seedlings-classification\\train\\Charlock\\200589bf2.png\t 标签值:1\n",
      "训练集样本数:4275\n",
      "测试集样本数:475\n",
      "路径:plant-seedlings-classification\\train\\Black-grass\\0b3e7a7a9.png\t 标签值:0\n"
     ]
    }
   ],
   "source": [
    "train_dataset.pt(100)\n",
    "print(\"训练集样本数:%i\"%train_dataset.__len__())\n",
    "print(\"测试集样本数:%i\"%eval_dataset.__len__())\n",
    "eval_dataset.pt(0)"
   ]
  },
  {
   "cell_type": "code",
   "execution_count": 9,
   "id": "6f36f2f1",
   "metadata": {
    "ExecuteTime": {
     "end_time": "2022-11-24T04:15:19.873217Z",
     "start_time": "2022-11-24T04:15:19.859514Z"
    },
    "execution": {
     "iopub.execute_input": "2022-11-24T03:12:50.797142Z",
     "iopub.status.busy": "2022-11-24T03:12:50.796668Z",
     "iopub.status.idle": "2022-11-24T03:12:50.813168Z",
     "shell.execute_reply": "2022-11-24T03:12:50.810691Z",
     "shell.execute_reply.started": "2022-11-24T03:12:50.797102Z"
    }
   },
   "outputs": [],
   "source": [
    "# for data in train_loader:\n",
    "#     x,y = data\n",
    "#     print(x.shape)\n",
    "#     print(y.shape)\n",
    "#     print(y)\n",
    "#     print(x)\n",
    "#     break"
   ]
  },
  {
   "cell_type": "markdown",
   "id": "ffab10f3",
   "metadata": {},
   "source": [
    "# 配置模型"
   ]
  },
  {
   "cell_type": "code",
   "execution_count": 10,
   "id": "be52f86b",
   "metadata": {
    "ExecuteTime": {
     "end_time": "2022-11-24T04:15:19.888433Z",
     "start_time": "2022-11-24T04:15:19.875739Z"
    }
   },
   "outputs": [],
   "source": [
    "# H,W -> H,W  out_channels musb be 3*n\n",
    "class Conv8(torch.nn.Module):\n",
    "    def __init__(self,in_channels,out_channels):\n",
    "        super().__init__()\n",
    "        self.conv3=torch.nn.Sequential(\n",
    "            *([torch.nn.Conv2d(in_channels,out_channels//3,kernel_size=3)]\n",
    "            +[torch.nn.Conv2d(out_channels//3,out_channels//3,kernel_size=3) for _ in range(3)])\n",
    "        )\n",
    "                                        \n",
    "        self.conv5=torch.nn.Sequential(\n",
    "            torch.nn.Conv2d(in_channels,out_channels//3,kernel_size=5),\n",
    "            torch.nn.Conv2d(out_channels//3,out_channels//3,kernel_size=5)\n",
    "        )\n",
    "        self.conv9=torch.nn.Conv2d(in_channels,out_channels//3,kernel_size=9)\n",
    "        \n",
    "    def forward(self,inputs):\n",
    "        x1=self.conv3(inputs)\n",
    "        x2=self.conv5(inputs)\n",
    "        x3=self.conv9(inputs)\n",
    "        return torch.concat((x1,x2,x3),dim=1)\n",
    "    "
   ]
  },
  {
   "cell_type": "code",
   "execution_count": 11,
   "id": "15aa361b",
   "metadata": {
    "ExecuteTime": {
     "end_time": "2022-11-24T04:15:19.903610Z",
     "start_time": "2022-11-24T04:15:19.889945Z"
    },
    "execution": {
     "iopub.execute_input": "2022-11-24T03:12:50.895067Z",
     "iopub.status.busy": "2022-11-24T03:12:50.888974Z",
     "iopub.status.idle": "2022-11-24T03:12:50.900975Z",
     "shell.execute_reply": "2022-11-24T03:12:50.899406Z",
     "shell.execute_reply.started": "2022-11-24T03:12:50.895030Z"
    }
   },
   "outputs": [],
   "source": [
    "class CNN(torch.nn.Module):\n",
    "    def __init__(self):\n",
    "        super().__init__()\n",
    "        self.conv1=Conv8(3,63)  # 3*224*224->63*216*216\n",
    "        self.pool1=torch.nn.MaxPool2d(kernel_size=2,stride=2) #->63*108*108\n",
    "        self.conv2=Conv8(63,126) # ->63*100*100\n",
    "        self.pool2=torch.nn.MaxPool2d(kernel_size=5,stride=5) #->63*20*20\n",
    "        self.conv3=Conv8(126,252) # ->252*12*12\n",
    "        self.pool3=torch.nn.MaxPool2d(kernel_size=4,stride=4) #->252*3*3\n",
    "        self.fc=torch.nn.Linear(252*3*3,12)\n",
    "        \n",
    "    \n",
    "    def forward(self,x):\n",
    "        x=self.conv1(x)\n",
    "        x=self.pool1(x)\n",
    "        x=self.conv2(x)\n",
    "        x=self.pool2(x)\n",
    "        x=self.conv3(x)\n",
    "        x=self.pool3(x)\n",
    "        x=self.fc(torch.reshape(x,[-1,252*3*3]))\n",
    "        return x"
   ]
  },
  {
   "cell_type": "code",
   "execution_count": 12,
   "id": "9e9442de",
   "metadata": {
    "ExecuteTime": {
     "end_time": "2022-11-24T04:15:19.933371Z",
     "start_time": "2022-11-24T04:15:19.905127Z"
    },
    "execution": {
     "iopub.execute_input": "2022-11-24T03:12:50.903676Z",
     "iopub.status.busy": "2022-11-24T03:12:50.903188Z",
     "iopub.status.idle": "2022-11-24T03:12:53.145075Z",
     "shell.execute_reply": "2022-11-24T03:12:53.142453Z",
     "shell.execute_reply.started": "2022-11-24T03:12:50.903601Z"
    }
   },
   "outputs": [
    {
     "name": "stdout",
     "output_type": "stream",
     "text": [
      "CNN(\n",
      "  (conv1): Conv8(\n",
      "    (conv3): Sequential(\n",
      "      (0): Conv2d(3, 21, kernel_size=(3, 3), stride=(1, 1))\n",
      "      (1): Conv2d(21, 21, kernel_size=(3, 3), stride=(1, 1))\n",
      "      (2): Conv2d(21, 21, kernel_size=(3, 3), stride=(1, 1))\n",
      "      (3): Conv2d(21, 21, kernel_size=(3, 3), stride=(1, 1))\n",
      "    )\n",
      "    (conv5): Sequential(\n",
      "      (0): Conv2d(3, 21, kernel_size=(5, 5), stride=(1, 1))\n",
      "      (1): Conv2d(21, 21, kernel_size=(5, 5), stride=(1, 1))\n",
      "    )\n",
      "    (conv9): Conv2d(3, 21, kernel_size=(9, 9), stride=(1, 1))\n",
      "  )\n",
      "  (pool1): MaxPool2d(kernel_size=2, stride=2, padding=0, dilation=1, ceil_mode=False)\n",
      "  (conv2): Conv8(\n",
      "    (conv3): Sequential(\n",
      "      (0): Conv2d(63, 42, kernel_size=(3, 3), stride=(1, 1))\n",
      "      (1): Conv2d(42, 42, kernel_size=(3, 3), stride=(1, 1))\n",
      "      (2): Conv2d(42, 42, kernel_size=(3, 3), stride=(1, 1))\n",
      "      (3): Conv2d(42, 42, kernel_size=(3, 3), stride=(1, 1))\n",
      "    )\n",
      "    (conv5): Sequential(\n",
      "      (0): Conv2d(63, 42, kernel_size=(5, 5), stride=(1, 1))\n",
      "      (1): Conv2d(42, 42, kernel_size=(5, 5), stride=(1, 1))\n",
      "    )\n",
      "    (conv9): Conv2d(63, 42, kernel_size=(9, 9), stride=(1, 1))\n",
      "  )\n",
      "  (pool2): MaxPool2d(kernel_size=5, stride=5, padding=0, dilation=1, ceil_mode=False)\n",
      "  (conv3): Conv8(\n",
      "    (conv3): Sequential(\n",
      "      (0): Conv2d(126, 84, kernel_size=(3, 3), stride=(1, 1))\n",
      "      (1): Conv2d(84, 84, kernel_size=(3, 3), stride=(1, 1))\n",
      "      (2): Conv2d(84, 84, kernel_size=(3, 3), stride=(1, 1))\n",
      "      (3): Conv2d(84, 84, kernel_size=(3, 3), stride=(1, 1))\n",
      "    )\n",
      "    (conv5): Sequential(\n",
      "      (0): Conv2d(126, 84, kernel_size=(5, 5), stride=(1, 1))\n",
      "      (1): Conv2d(84, 84, kernel_size=(5, 5), stride=(1, 1))\n",
      "    )\n",
      "    (conv9): Conv2d(126, 84, kernel_size=(9, 9), stride=(1, 1))\n",
      "  )\n",
      "  (pool3): MaxPool2d(kernel_size=4, stride=4, padding=0, dilation=1, ceil_mode=False)\n",
      "  (fc): Linear(in_features=2268, out_features=12, bias=True)\n",
      ")\n"
     ]
    }
   ],
   "source": [
    "model=CNN()\n",
    "print(model)\n"
   ]
  },
  {
   "cell_type": "code",
   "execution_count": 13,
   "id": "6311d2fb",
   "metadata": {
    "ExecuteTime": {
     "end_time": "2022-11-24T04:15:19.948542Z",
     "start_time": "2022-11-24T04:15:19.935430Z"
    },
    "execution": {
     "iopub.execute_input": "2022-11-24T03:12:53.147400Z",
     "iopub.status.busy": "2022-11-24T03:12:53.146774Z",
     "iopub.status.idle": "2022-11-24T03:12:53.166291Z",
     "shell.execute_reply": "2022-11-24T03:12:53.165116Z",
     "shell.execute_reply.started": "2022-11-24T03:12:53.147344Z"
    }
   },
   "outputs": [],
   "source": [
    "def fit(epochs):\n",
    "    device = torch.device('cuda')\n",
    "    model.to(device)\n",
    "    model.train()\n",
    "\n",
    "    cross_entropy=torch.nn.CrossEntropyLoss()\n",
    "    opt=torch.optim.Adam(params=model.parameters(),lr=0.0001)\n",
    "\n",
    "    steps=0\n",
    "    maxacc=0\n",
    "    \n",
    "    steps_list=[]\n",
    "    train_losses_list=[]\n",
    "    eval_losses_list=[]\n",
    "    train_accs_list=[]\n",
    "    eval_accs_list=[]\n",
    "    \n",
    "    for epo in range(epochs):\n",
    "        for batch_id,data in enumerate(train_loader):\n",
    "            opt.zero_grad()\n",
    "            x=data[0].to(device)\n",
    "            y=data[1].to(device)\n",
    "            pred=model(x)\n",
    "#             print(pred.shape,y.shape)\n",
    "            loss=cross_entropy(pred,y.squeeze())\n",
    "            res = torch.argmax(pred,1)\n",
    "#             print(res,y.squeeze())\n",
    "            acc = ((torch.eq(res,y.squeeze())).sum()).item()/res.shape[0]\n",
    "#             acc=(pred==y).mean()\n",
    "            loss.backward()\n",
    "            opt.step()\n",
    "\n",
    "\n",
    "            steps+=1\n",
    "            if steps%10==0:\n",
    "                print(\"epoch:{},step:{},loss:{},acc:{}\".format(epo,steps,loss.item(),acc))\n",
    "                losses=[]\n",
    "                accs=[]\n",
    "                for eval_data in eval_loader:\n",
    "                    eval_x=eval_data[0].to(device)\n",
    "                    eval_y=eval_data[1].to(device)\n",
    "                    eval_pred=model(eval_x)\n",
    "                    eval_loss=cross_entropy(eval_pred,eval_y.squeeze())\n",
    "                    eval_res=torch.argmax(eval_pred,1)\n",
    "                    eval_acc=((torch.eq(eval_res,eval_y.squeeze())).sum()).item()/eval_res.shape[0]\n",
    "                    losses.append(float(eval_loss))\n",
    "                    accs.append(float(eval_acc))\n",
    "                    avg_acc=sum(accs)/len(accs)\n",
    "                print(\"[Valid]  eval_loss:{},eval_acc:{}\".format(sum(losses)/len(losses),avg_acc))\n",
    "                    \n",
    "\n",
    "                if maxacc<avg_acc:\n",
    "                    maxacc=avg_acc\n",
    "                    save_path='best.pd'\n",
    "                    print('save to %s'%save_path)\n",
    "                    torch.save(model.state_dict(),save_path)\n",
    "                \n",
    "                steps_list.append(steps)\n",
    "                train_losses_list.append(float(loss))\n",
    "                eval_losses_list.append(float(sum(losses)/len(losses)))\n",
    "                train_accs_list.append(float(acc))\n",
    "                eval_accs_list.append(float(avg_acc))\n",
    "        \n",
    "            \n",
    "\n",
    "        torch.save(model.state_dict(),\"final.pd\")\n",
    "    return steps_list, train_losses_list, eval_losses_list, train_accs_list, eval_accs_list"
   ]
  },
  {
   "cell_type": "code",
   "execution_count": 18,
   "id": "2281b991",
   "metadata": {
    "ExecuteTime": {
     "end_time": "2022-11-24T04:27:40.294613Z",
     "start_time": "2022-11-24T04:23:25.805941Z"
    },
    "execution": {
     "iopub.execute_input": "2022-11-24T03:12:53.169064Z",
     "iopub.status.busy": "2022-11-24T03:12:53.167677Z",
     "iopub.status.idle": "2022-11-24T03:20:40.951734Z",
     "shell.execute_reply": "2022-11-24T03:20:40.950681Z",
     "shell.execute_reply.started": "2022-11-24T03:12:53.169020Z"
    },
    "scrolled": true
   },
   "outputs": [
    {
     "name": "stderr",
     "output_type": "stream",
     "text": [
      "C:\\Users\\lazybug\\AppData\\Local\\Temp\\ipykernel_12000\\119740133.py:24: DeprecationWarning: BILINEAR is deprecated and will be removed in Pillow 10 (2023-07-01). Use Resampling.BILINEAR instead.\n",
      "  img=img.resize((224,224),Image.BILINEAR)\n"
     ]
    },
    {
     "name": "stdout",
     "output_type": "stream",
     "text": [
      "epoch:0,step:10,loss:0.8184967637062073,acc:0.6875\n",
      "[Valid]  eval_loss:1.2327562431494394,eval_acc:0.5878858024691358\n",
      "save to best.pd\n",
      "epoch:0,step:20,loss:1.1877965927124023,acc:0.625\n",
      "[Valid]  eval_loss:1.1870171050230662,eval_acc:0.6263888888888889\n",
      "save to best.pd\n",
      "epoch:0,step:30,loss:1.322894811630249,acc:0.53125\n",
      "[Valid]  eval_loss:1.2676152259111404,eval_acc:0.5625771604938271\n",
      "epoch:0,step:40,loss:1.2699166536331177,acc:0.59375\n",
      "[Valid]  eval_loss:1.079481206337611,eval_acc:0.632638888888889\n",
      "save to best.pd\n",
      "epoch:0,step:50,loss:1.2458312511444092,acc:0.59375\n",
      "[Valid]  eval_loss:1.0654683311780293,eval_acc:0.6533179012345679\n",
      "save to best.pd\n",
      "epoch:0,step:60,loss:0.8235218524932861,acc:0.59375\n",
      "[Valid]  eval_loss:1.054838893810908,eval_acc:0.6641203703703703\n",
      "save to best.pd\n",
      "epoch:0,step:70,loss:0.7613212466239929,acc:0.75\n",
      "[Valid]  eval_loss:1.0575593829154968,eval_acc:0.626929012345679\n",
      "epoch:0,step:80,loss:0.9533381462097168,acc:0.71875\n",
      "[Valid]  eval_loss:1.0465221524238586,eval_acc:0.6426697530864197\n",
      "epoch:0,step:90,loss:1.4235857725143433,acc:0.53125\n",
      "[Valid]  eval_loss:0.9945119718710581,eval_acc:0.6572530864197531\n",
      "epoch:0,step:100,loss:0.7435122728347778,acc:0.8125\n",
      "[Valid]  eval_loss:1.0123435040314992,eval_acc:0.6686728395061727\n",
      "save to best.pd\n",
      "epoch:0,step:110,loss:0.8618445992469788,acc:0.71875\n",
      "[Valid]  eval_loss:1.0379675686359406,eval_acc:0.6469135802469136\n",
      "epoch:0,step:120,loss:1.0208171606063843,acc:0.75\n",
      "[Valid]  eval_loss:1.0542607088883718,eval_acc:0.6542438271604938\n",
      "epoch:0,step:130,loss:0.7011377811431885,acc:0.75\n",
      "[Valid]  eval_loss:1.1347540780901908,eval_acc:0.5998456790123456\n",
      "epoch:1,step:140,loss:0.9989748597145081,acc:0.65625\n",
      "[Valid]  eval_loss:0.9466002265612284,eval_acc:0.6944444444444444\n",
      "save to best.pd\n",
      "epoch:1,step:150,loss:0.6469312906265259,acc:0.8125\n",
      "[Valid]  eval_loss:0.9523642579714457,eval_acc:0.7103395061728395\n",
      "save to best.pd\n",
      "epoch:1,step:160,loss:0.534916341304779,acc:0.78125\n",
      "[Valid]  eval_loss:0.9419502059618632,eval_acc:0.6936728395061728\n",
      "epoch:1,step:170,loss:1.3143454790115356,acc:0.5\n",
      "[Valid]  eval_loss:0.9417297581831614,eval_acc:0.6840277777777778\n",
      "epoch:1,step:180,loss:0.7101277709007263,acc:0.6875\n",
      "[Valid]  eval_loss:1.0435366620620092,eval_acc:0.6811728395061728\n",
      "epoch:1,step:190,loss:0.9436401724815369,acc:0.6875\n",
      "[Valid]  eval_loss:1.0682066361109415,eval_acc:0.6417438271604937\n",
      "epoch:1,step:200,loss:1.1414008140563965,acc:0.6875\n",
      "[Valid]  eval_loss:0.9469620833794276,eval_acc:0.7020061728395061\n",
      "epoch:1,step:210,loss:0.9178135991096497,acc:0.65625\n",
      "[Valid]  eval_loss:1.0287283132473628,eval_acc:0.6794753086419754\n",
      "epoch:1,step:220,loss:1.1040153503417969,acc:0.59375\n",
      "[Valid]  eval_loss:0.9624988694985708,eval_acc:0.6695987654320987\n",
      "epoch:1,step:230,loss:0.6154757738113403,acc:0.75\n",
      "[Valid]  eval_loss:0.9517853130896886,eval_acc:0.6972993827160494\n",
      "epoch:1,step:240,loss:0.8360501527786255,acc:0.6875\n",
      "[Valid]  eval_loss:0.9866751690705617,eval_acc:0.6551697530864197\n",
      "epoch:1,step:250,loss:1.1322492361068726,acc:0.6875\n",
      "[Valid]  eval_loss:0.9487736741701762,eval_acc:0.7141203703703703\n",
      "save to best.pd\n",
      "epoch:1,step:260,loss:0.7328882813453674,acc:0.71875\n",
      "[Valid]  eval_loss:1.0096256350477537,eval_acc:0.6732253086419753\n"
     ]
    }
   ],
   "source": [
    "steps_list, train_losses_list, eval_losses_list, train_accs_list, eval_accs_list=fit(epochs=2)"
   ]
  },
  {
   "cell_type": "markdown",
   "id": "d11c038b",
   "metadata": {},
   "source": [
    "# 实验结果分析(绘图)"
   ]
  },
  {
   "cell_type": "code",
   "execution_count": 19,
   "id": "ddfc5672",
   "metadata": {
    "ExecuteTime": {
     "end_time": "2022-11-24T04:28:59.618747Z",
     "start_time": "2022-11-24T04:28:59.401523Z"
    },
    "execution": {
     "iopub.execute_input": "2022-11-24T03:20:40.954563Z",
     "iopub.status.busy": "2022-11-24T03:20:40.953937Z",
     "iopub.status.idle": "2022-11-24T03:20:41.340376Z",
     "shell.execute_reply": "2022-11-24T03:20:41.339450Z",
     "shell.execute_reply.started": "2022-11-24T03:20:40.954523Z"
    }
   },
   "outputs": [
    {
     "data": {
      "text/plain": [
       "<matplotlib.legend.Legend at 0x1af420837c0>"
      ]
     },
     "execution_count": 19,
     "metadata": {},
     "output_type": "execute_result"
    },
    {
     "data": {
      "image/png": "[encoded data removed]",
      "text/plain": [
       "<Figure size 640x480 with 2 Axes>"
      ]
     },
     "metadata": {},
     "output_type": "display_data"
    }
   ],
   "source": [
    "import matplotlib.pyplot as plt\n",
    "plt.subplot(121)\n",
    "plt.title(\"Loss\")\n",
    "plt.xlabel(\"steps\")\n",
    "# plt.ylabel(\"loss\")\n",
    "plt.plot(steps_list,train_losses_list)\n",
    "plt.plot(steps_list,eval_losses_list)\n",
    "plt.legend([\"train loss\",\"eval loss\"])\n",
    "\n",
    "plt.subplot(122)\n",
    "plt.title(\"Acc\")\n",
    "plt.xlabel(\"steps\")\n",
    "# plt.ylabel(\"acc\")\n",
    "plt.plot(steps_list,train_accs_list)\n",
    "plt.plot(steps_list,eval_accs_list)\n",
    "plt.legend([\"train acc\",\"eval acc\"])\n"
   ]
  },
  {
   "cell_type": "markdown",
   "id": "a91f5986",
   "metadata": {},
   "source": [
    "# 保存模型"
   ]
  },
  {
   "cell_type": "code",
   "execution_count": 16,
   "id": "968f9daa",
   "metadata": {
    "ExecuteTime": {
     "end_time": "2022-11-24T04:19:59.084103Z",
     "start_time": "2022-11-24T04:19:59.055101Z"
    },
    "execution": {
     "iopub.execute_input": "2022-11-24T03:20:41.342185Z",
     "iopub.status.busy": "2022-11-24T03:20:41.341736Z",
     "iopub.status.idle": "2022-11-24T03:20:43.125680Z",
     "shell.execute_reply": "2022-11-24T03:20:43.124157Z",
     "shell.execute_reply.started": "2022-11-24T03:20:41.342144Z"
    }
   },
   "outputs": [],
   "source": [
    "torch.save(model.state_dict(),\"final.pd\")"
   ]
  },
  {
   "cell_type": "markdown",
   "id": "e4f196bc",
   "metadata": {
    "execution": {
     "iopub.status.busy": "2022-11-22T12:14:05.742812Z",
     "iopub.status.idle": "2022-11-22T12:14:05.743550Z",
     "shell.execute_reply": "2022-11-22T12:14:05.743315Z",
     "shell.execute_reply.started": "2022-11-22T12:14:05.743290Z"
    }
   },
   "source": [
    "# 加载模型"
   ]
  },
  {
   "cell_type": "code",
   "execution_count": 17,
   "id": "08131878",
   "metadata": {
    "ExecuteTime": {
     "end_time": "2022-11-24T04:19:59.710114Z",
     "start_time": "2022-11-24T04:19:59.085621Z"
    },
    "execution": {
     "iopub.execute_input": "2022-11-24T03:20:43.133996Z",
     "iopub.status.busy": "2022-11-24T03:20:43.133474Z",
     "iopub.status.idle": "2022-11-24T03:20:45.088297Z",
     "shell.execute_reply": "2022-11-24T03:20:45.087159Z",
     "shell.execute_reply.started": "2022-11-24T03:20:43.133946Z"
    }
   },
   "outputs": [
    {
     "ename": "NameError",
     "evalue": "name 'VGGNet' is not defined",
     "output_type": "error",
     "traceback": [
      "\u001b[1;31m---------------------------------------------------------------------------\u001b[0m",
      "\u001b[1;31mNameError\u001b[0m                                 Traceback (most recent call last)",
      "Input \u001b[1;32mIn [17]\u001b[0m, in \u001b[0;36m<cell line: 44>\u001b[1;34m()\u001b[0m\n\u001b[0;32m     39\u001b[0m             x\u001b[38;5;241m=\u001b[39msub_layer(x)\n\u001b[0;32m     40\u001b[0m         \u001b[38;5;28;01mreturn\u001b[39;00m x\n\u001b[1;32m---> 44\u001b[0m \u001b[38;5;28;01mclass\u001b[39;00m \u001b[38;5;21;01mVGGNet\u001b[39;00m(torch\u001b[38;5;241m.\u001b[39mnn\u001b[38;5;241m.\u001b[39mModule):\n\u001b[0;32m     45\u001b[0m     \u001b[38;5;28;01mdef\u001b[39;00m \u001b[38;5;21m__init__\u001b[39m(\u001b[38;5;28mself\u001b[39m):\n\u001b[0;32m     46\u001b[0m         \u001b[38;5;28msuper\u001b[39m(VGGNet,\u001b[38;5;28mself\u001b[39m)\u001b[38;5;241m.\u001b[39m\u001b[38;5;21m__init__\u001b[39m()\n",
      "Input \u001b[1;32mIn [17]\u001b[0m, in \u001b[0;36mVGGNet\u001b[1;34m()\u001b[0m\n\u001b[0;32m     73\u001b[0m     y\u001b[38;5;241m=\u001b[39m\u001b[38;5;28mself\u001b[39m\u001b[38;5;241m.\u001b[39mfc03(x)\n\u001b[0;32m     74\u001b[0m     \u001b[38;5;28;01mreturn\u001b[39;00m x\n\u001b[1;32m---> 77\u001b[0m model\u001b[38;5;241m=\u001b[39m\u001b[43mVGGNet\u001b[49m()\n\u001b[0;32m     78\u001b[0m model\u001b[38;5;241m.\u001b[39mload_state_dict(torch\u001b[38;5;241m.\u001b[39mload(state_path))\n",
      "\u001b[1;31mNameError\u001b[0m: name 'VGGNet' is not defined"
     ]
    }
   ],
   "source": [
    "state_path='final.pd'\n",
    "\n",
    "class ConvPool(torch.nn.Module):\n",
    "    def __init__(self,num_channels,num_filters,filter_size,pool_size,pool_stride,groups,conv_stride=1,conv_padding=1):\n",
    "        super(ConvPool,self).__init__()\n",
    "\n",
    "        for i in range(groups):\n",
    "            self.add_module(\n",
    "                \"conv_%d\"%i,\n",
    "                torch.nn.Conv2d(\n",
    "                    in_channels=num_channels,\n",
    "                    out_channels=num_filters,\n",
    "                    kernel_size=filter_size,\n",
    "                    stride=conv_stride,\n",
    "                    padding=conv_padding\n",
    "                )\n",
    "            )\n",
    "            num_channels=num_filters # 循环中下次的输入通道和上次的输出通道数相同\n",
    "            self.add_module(\n",
    "                'BN_%d'%i,\n",
    "                torch.nn.BatchNorm2d(num_channels)\n",
    "            )\n",
    "            self.add_module(\n",
    "                'relu%d'%i,\n",
    "                torch.nn.ReLU()\n",
    "            )\n",
    "            \n",
    "        \n",
    "        self.add_module(\n",
    "            'Maxpool',\n",
    "            torch.nn.MaxPool2d(\n",
    "                kernel_size=pool_size,\n",
    "                stride=pool_stride\n",
    "            )\n",
    "        )\n",
    "    def forward(self,inputs):\n",
    "        x=inputs\n",
    "        for prefix,sub_layer in self.named_children():\n",
    "            x=sub_layer(x)\n",
    "        return x\n",
    "    \n",
    "\n",
    "\n",
    "class VGGNet(torch.nn.Module):\n",
    "    def __init__(self):\n",
    "        super(VGGNet,self).__init__()\n",
    "        self.convpool01=ConvPool(3,64,3,2,2,2)\n",
    "        self.convpool02=ConvPool(64,128,3,2,2,2)\n",
    "        self.convpool03=ConvPool(128,256,3,2,2,3)\n",
    "        self.convpool04=ConvPool(256,512,3,2,2,3)\n",
    "        self.convpool05=ConvPool(512,512,3,2,2,3)\n",
    "\n",
    "        self.fc01=torch.nn.Linear(512*7*7,4096)\n",
    "        self.fc02=torch.nn.Linear(4096,4096)\n",
    "        self.fc03=torch.nn.Linear(4096,12)\n",
    "\n",
    "    def forward(self,inputs):\n",
    "        # print('input_size:{}'.format(inputs.shape))\n",
    "        \n",
    "        x=self.convpool01(inputs)\n",
    "#         print(self.convpool01.state_dict())\n",
    "        x=self.convpool02(x)\n",
    "        x=self.convpool03(x)\n",
    "        \n",
    "        \n",
    "        \n",
    "        x=self.convpool04(x)\n",
    "        x=self.convpool05(x)\n",
    "        \n",
    "        x=torch.reshape(x,[-1,512*7*7])\n",
    "        x=self.fc01(x)\n",
    "        x=self.fc02(x)\n",
    "        y=self.fc03(x)\n",
    "        return x\n",
    "    \n",
    "\n",
    "    model=CNN()\n",
    "    model.load_state_dict(torch.load(state_path))"
   ]
  },
  {
   "cell_type": "markdown",
   "id": "547d5783",
   "metadata": {},
   "source": [
    "# 预测"
   ]
  },
  {
   "cell_type": "code",
   "execution_count": null,
   "id": "77f2a18f",
   "metadata": {
    "ExecuteTime": {
     "end_time": "2022-11-24T04:19:59.711718Z",
     "start_time": "2022-11-24T04:19:59.711718Z"
    },
    "execution": {
     "iopub.execute_input": "2022-11-24T03:20:45.092817Z",
     "iopub.status.busy": "2022-11-24T03:20:45.092461Z",
     "iopub.status.idle": "2022-11-24T03:21:01.254255Z",
     "shell.execute_reply": "2022-11-24T03:21:01.253209Z",
     "shell.execute_reply.started": "2022-11-24T03:20:45.092787Z"
    }
   },
   "outputs": [],
   "source": [
    "def get_test_list(path,test_list_path):\n",
    "    \n",
    "    imgs=os.listdir(path)\n",
    "    test_list=[]\n",
    "\n",
    "    for img in imgs:\n",
    "        img_path=os.path.join(path,img)\n",
    "        test_list.append(img_path+\"\\n\")\n",
    "#         print(img_path)\n",
    "    with open(test_list_path,'w') as f:\n",
    "        for line in test_list:\n",
    "            f.write(line)\n",
    "            \n",
    "            \n",
    "\n",
    "\n",
    "\n",
    "from PIL import Image \n",
    "import torch\n",
    "import numpy as np\n",
    "class Test_Reader(torch.utils.data.Dataset):\n",
    "    def __init__(self,path):\n",
    "        super().__init__()\n",
    "        \n",
    "        self.img_paths=[]\n",
    "        \n",
    "        with open(path,'r',encoding='utf-8') as f:\n",
    "            for line in f.readlines():\n",
    "                self.img_paths.append(line.strip())\n",
    "        self.img_paths.sort()\n",
    "\n",
    "    def __getitem__(self,index):\n",
    "\n",
    "        img_path=self.img_paths[index]\n",
    "        \n",
    "        img=Image.open(img_path)\n",
    "        if img.mode !='RGB':\n",
    "            img=img.convert('RGB')\n",
    "        img=img.resize((224,224),Image.BILINEAR)\n",
    "        img=np.array(img).astype('float32')\n",
    "        img=img.transpose((2,0,1))\n",
    "        img/=255.0\n",
    "        \n",
    "        return img,img_path\n",
    "\n",
    "\n",
    "    def __len__(self):\n",
    "        return len(self.img_paths)\n",
    "\n",
    "get_test_list(test_path,\"test_list.txt\")\n",
    "test_dataset=Test_Reader(\"test_list.txt\")\n",
    "test_loader=torch.utils.data.DataLoader(test_dataset,batch_size=1,shuffle=False)\n",
    "\n",
    "device = torch.device('cuda')\n",
    "with open('submit.csv','w') as f:\n",
    "    f.write(\"file,species\\n\")\n",
    "for test_data in test_loader:\n",
    "    test_x=test_data[0].to(device)\n",
    "    img_path=test_data[1][0]\n",
    "    test_pred=model(test_x)\n",
    "    test_res=torch.argmax(test_pred,1)\n",
    "#     print(type(test_res.item()),type(img_path),test_res.item(),img_path.strip().split(r'/')[-1])\n",
    "    with open('submit.csv','a') as f:\n",
    "        f.write(img_path.strip().split(r'/')[-1]+\",\"+label_dict[str(test_res.item())]+\"\\n\")"
   ]
  },
  {
   "cell_type": "code",
   "execution_count": null,
   "id": "711269f0",
   "metadata": {
    "ExecuteTime": {
     "end_time": "2022-11-24T04:19:59.712719Z",
     "start_time": "2022-11-24T04:19:59.712719Z"
    },
    "execution": {
     "iopub.execute_input": "2022-11-24T03:21:01.256735Z",
     "iopub.status.busy": "2022-11-24T03:21:01.256338Z",
     "iopub.status.idle": "2022-11-24T03:21:01.267629Z",
     "shell.execute_reply": "2022-11-24T03:21:01.266377Z",
     "shell.execute_reply.started": "2022-11-24T03:21:01.256698Z"
    }
   },
   "outputs": [],
   "source": [
    "import os\n",
    "os.chdir('/kaggle/working')\n",
    "print(os.getcwd())\n",
    "print(os.listdir(\"/kaggle/working\"))\n",
    "from IPython.display import FileLink\n",
    "FileLink('final.pt')"
   ]
  },
  {
   "cell_type": "code",
   "execution_count": null,
   "id": "0e85655b",
   "metadata": {},
   "outputs": [],
   "source": []
  }
 ],
 "metadata": {
  "kernelspec": {
   "display_name": "Python 3",
   "language": "python",
   "name": "python3"
  },
  "language_info": {
   "codemirror_mode": {
    "name": "ipython",
    "version": 3
   },
   "file_extension": ".py",
   "mimetype": "text/x-python",
   "name": "python",
   "nbconvert_exporter": "python",
   "pygments_lexer": "ipython3",
   "version": "3.8.13"
  }
 },
 "nbformat": 4,
 "nbformat_minor": 5
}
